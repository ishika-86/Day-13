{
 "cells": [
  {
   "cell_type": "code",
   "execution_count": 1,
   "id": "c0b7fb4a",
   "metadata": {},
   "outputs": [],
   "source": [
    "import pandas as pd\n",
    "diamonds = pd.read_csv('https://raw.githubusercontent.com/mwaskom/seaborn-data/master/diamonds.csv')"
   ]
  },
  {
   "cell_type": "code",
   "execution_count": 2,
   "id": "225e0ad7",
   "metadata": {},
   "outputs": [
    {
     "data": {
      "text/html": [
       "<div>\n",
       "<style scoped>\n",
       "    .dataframe tbody tr th:only-of-type {\n",
       "        vertical-align: middle;\n",
       "    }\n",
       "\n",
       "    .dataframe tbody tr th {\n",
       "        vertical-align: top;\n",
       "    }\n",
       "\n",
       "    .dataframe thead th {\n",
       "        text-align: right;\n",
       "    }\n",
       "</style>\n",
       "<table border=\"1\" class=\"dataframe\">\n",
       "  <thead>\n",
       "    <tr style=\"text-align: right;\">\n",
       "      <th></th>\n",
       "      <th>carat</th>\n",
       "      <th>cut</th>\n",
       "      <th>color</th>\n",
       "      <th>clarity</th>\n",
       "      <th>depth</th>\n",
       "      <th>table</th>\n",
       "      <th>price</th>\n",
       "      <th>x</th>\n",
       "      <th>y</th>\n",
       "      <th>z</th>\n",
       "    </tr>\n",
       "  </thead>\n",
       "  <tbody>\n",
       "    <tr>\n",
       "      <th>0</th>\n",
       "      <td>0.23</td>\n",
       "      <td>Ideal</td>\n",
       "      <td>E</td>\n",
       "      <td>SI2</td>\n",
       "      <td>61.5</td>\n",
       "      <td>55.0</td>\n",
       "      <td>326</td>\n",
       "      <td>3.95</td>\n",
       "      <td>3.98</td>\n",
       "      <td>2.43</td>\n",
       "    </tr>\n",
       "    <tr>\n",
       "      <th>1</th>\n",
       "      <td>0.21</td>\n",
       "      <td>Premium</td>\n",
       "      <td>E</td>\n",
       "      <td>SI1</td>\n",
       "      <td>59.8</td>\n",
       "      <td>61.0</td>\n",
       "      <td>326</td>\n",
       "      <td>3.89</td>\n",
       "      <td>3.84</td>\n",
       "      <td>2.31</td>\n",
       "    </tr>\n",
       "    <tr>\n",
       "      <th>2</th>\n",
       "      <td>0.23</td>\n",
       "      <td>Good</td>\n",
       "      <td>E</td>\n",
       "      <td>VS1</td>\n",
       "      <td>56.9</td>\n",
       "      <td>65.0</td>\n",
       "      <td>327</td>\n",
       "      <td>4.05</td>\n",
       "      <td>4.07</td>\n",
       "      <td>2.31</td>\n",
       "    </tr>\n",
       "    <tr>\n",
       "      <th>3</th>\n",
       "      <td>0.29</td>\n",
       "      <td>Premium</td>\n",
       "      <td>I</td>\n",
       "      <td>VS2</td>\n",
       "      <td>62.4</td>\n",
       "      <td>58.0</td>\n",
       "      <td>334</td>\n",
       "      <td>4.20</td>\n",
       "      <td>4.23</td>\n",
       "      <td>2.63</td>\n",
       "    </tr>\n",
       "    <tr>\n",
       "      <th>4</th>\n",
       "      <td>0.31</td>\n",
       "      <td>Good</td>\n",
       "      <td>J</td>\n",
       "      <td>SI2</td>\n",
       "      <td>63.3</td>\n",
       "      <td>58.0</td>\n",
       "      <td>335</td>\n",
       "      <td>4.34</td>\n",
       "      <td>4.35</td>\n",
       "      <td>2.75</td>\n",
       "    </tr>\n",
       "    <tr>\n",
       "      <th>...</th>\n",
       "      <td>...</td>\n",
       "      <td>...</td>\n",
       "      <td>...</td>\n",
       "      <td>...</td>\n",
       "      <td>...</td>\n",
       "      <td>...</td>\n",
       "      <td>...</td>\n",
       "      <td>...</td>\n",
       "      <td>...</td>\n",
       "      <td>...</td>\n",
       "    </tr>\n",
       "    <tr>\n",
       "      <th>53935</th>\n",
       "      <td>0.72</td>\n",
       "      <td>Ideal</td>\n",
       "      <td>D</td>\n",
       "      <td>SI1</td>\n",
       "      <td>60.8</td>\n",
       "      <td>57.0</td>\n",
       "      <td>2757</td>\n",
       "      <td>5.75</td>\n",
       "      <td>5.76</td>\n",
       "      <td>3.50</td>\n",
       "    </tr>\n",
       "    <tr>\n",
       "      <th>53936</th>\n",
       "      <td>0.72</td>\n",
       "      <td>Good</td>\n",
       "      <td>D</td>\n",
       "      <td>SI1</td>\n",
       "      <td>63.1</td>\n",
       "      <td>55.0</td>\n",
       "      <td>2757</td>\n",
       "      <td>5.69</td>\n",
       "      <td>5.75</td>\n",
       "      <td>3.61</td>\n",
       "    </tr>\n",
       "    <tr>\n",
       "      <th>53937</th>\n",
       "      <td>0.70</td>\n",
       "      <td>Very Good</td>\n",
       "      <td>D</td>\n",
       "      <td>SI1</td>\n",
       "      <td>62.8</td>\n",
       "      <td>60.0</td>\n",
       "      <td>2757</td>\n",
       "      <td>5.66</td>\n",
       "      <td>5.68</td>\n",
       "      <td>3.56</td>\n",
       "    </tr>\n",
       "    <tr>\n",
       "      <th>53938</th>\n",
       "      <td>0.86</td>\n",
       "      <td>Premium</td>\n",
       "      <td>H</td>\n",
       "      <td>SI2</td>\n",
       "      <td>61.0</td>\n",
       "      <td>58.0</td>\n",
       "      <td>2757</td>\n",
       "      <td>6.15</td>\n",
       "      <td>6.12</td>\n",
       "      <td>3.74</td>\n",
       "    </tr>\n",
       "    <tr>\n",
       "      <th>53939</th>\n",
       "      <td>0.75</td>\n",
       "      <td>Ideal</td>\n",
       "      <td>D</td>\n",
       "      <td>SI2</td>\n",
       "      <td>62.2</td>\n",
       "      <td>55.0</td>\n",
       "      <td>2757</td>\n",
       "      <td>5.83</td>\n",
       "      <td>5.87</td>\n",
       "      <td>3.64</td>\n",
       "    </tr>\n",
       "  </tbody>\n",
       "</table>\n",
       "<p>53940 rows × 10 columns</p>\n",
       "</div>"
      ],
      "text/plain": [
       "       carat        cut color clarity  depth  table  price     x     y     z\n",
       "0       0.23      Ideal     E     SI2   61.5   55.0    326  3.95  3.98  2.43\n",
       "1       0.21    Premium     E     SI1   59.8   61.0    326  3.89  3.84  2.31\n",
       "2       0.23       Good     E     VS1   56.9   65.0    327  4.05  4.07  2.31\n",
       "3       0.29    Premium     I     VS2   62.4   58.0    334  4.20  4.23  2.63\n",
       "4       0.31       Good     J     SI2   63.3   58.0    335  4.34  4.35  2.75\n",
       "...      ...        ...   ...     ...    ...    ...    ...   ...   ...   ...\n",
       "53935   0.72      Ideal     D     SI1   60.8   57.0   2757  5.75  5.76  3.50\n",
       "53936   0.72       Good     D     SI1   63.1   55.0   2757  5.69  5.75  3.61\n",
       "53937   0.70  Very Good     D     SI1   62.8   60.0   2757  5.66  5.68  3.56\n",
       "53938   0.86    Premium     H     SI2   61.0   58.0   2757  6.15  6.12  3.74\n",
       "53939   0.75      Ideal     D     SI2   62.2   55.0   2757  5.83  5.87  3.64\n",
       "\n",
       "[53940 rows x 10 columns]"
      ]
     },
     "execution_count": 2,
     "metadata": {},
     "output_type": "execute_result"
    }
   ],
   "source": [
    "diamonds"
   ]
  },
  {
   "cell_type": "markdown",
   "id": "114e2616",
   "metadata": {},
   "source": [
    "***print the first 5 rows.***"
   ]
  },
  {
   "cell_type": "code",
   "execution_count": 3,
   "id": "6e19c924",
   "metadata": {},
   "outputs": [
    {
     "name": "stdout",
     "output_type": "stream",
     "text": [
      "   carat      cut color clarity  depth  table  price     x     y     z\n",
      "0   0.23    Ideal     E     SI2   61.5   55.0    326  3.95  3.98  2.43\n",
      "1   0.21  Premium     E     SI1   59.8   61.0    326  3.89  3.84  2.31\n",
      "2   0.23     Good     E     VS1   56.9   65.0    327  4.05  4.07  2.31\n",
      "3   0.29  Premium     I     VS2   62.4   58.0    334  4.20  4.23  2.63\n",
      "4   0.31     Good     J     SI2   63.3   58.0    335  4.34  4.35  2.75\n"
     ]
    }
   ],
   "source": [
    "print(diamonds.head())"
   ]
  },
  {
   "cell_type": "markdown",
   "id": "24b70bf1",
   "metadata": {},
   "source": [
    "***modify the default columns values and print the first 6 rows.***"
   ]
  },
  {
   "cell_type": "code",
   "execution_count": 4,
   "id": "eb399a4e",
   "metadata": {},
   "outputs": [
    {
     "name": "stdout",
     "output_type": "stream",
     "text": [
      "         cut     x     y     z color\n",
      "0      Ideal  3.95  3.98  2.43     E\n",
      "1    Premium  3.89  3.84  2.31     E\n",
      "2       Good  4.05  4.07  2.31     E\n",
      "3    Premium  4.20  4.23  2.63     I\n",
      "4       Good  4.34  4.35  2.75     J\n",
      "5  Very Good  3.94  3.96  2.48     J\n"
     ]
    }
   ],
   "source": [
    "default_cols = ['cut', 'x', 'y', 'z', 'color']\n",
    "print(diamonds[default_cols].head(6))"
   ]
  },
  {
   "cell_type": "markdown",
   "id": "284c01c4",
   "metadata": {},
   "source": [
    "***select a series from diamonds DataFrame. Print the content of the series.***"
   ]
  },
  {
   "cell_type": "code",
   "execution_count": 5,
   "id": "ed9bc09b",
   "metadata": {},
   "outputs": [
    {
     "name": "stdout",
     "output_type": "stream",
     "text": [
      "0        E\n",
      "1        E\n",
      "2        E\n",
      "3        I\n",
      "4        J\n",
      "        ..\n",
      "53935    D\n",
      "53936    D\n",
      "53937    D\n",
      "53938    H\n",
      "53939    D\n",
      "Name: color, Length: 53940, dtype: object\n"
     ]
    }
   ],
   "source": [
    "print(diamonds['color'])"
   ]
  },
  {
   "cell_type": "markdown",
   "id": "ec569f1f",
   "metadata": {},
   "source": [
    "***to create a new 'Quality -color' Series***"
   ]
  },
  {
   "cell_type": "code",
   "execution_count": 6,
   "id": "2f8e7eb2",
   "metadata": {},
   "outputs": [
    {
     "name": "stdout",
     "output_type": "stream",
     "text": [
      "   carat      cut color clarity  depth  table  price     x     y     z  \\\n",
      "0   0.23    Ideal     E     SI2   61.5   55.0    326  3.95  3.98  2.43   \n",
      "1   0.21  Premium     E     SI1   59.8   61.0    326  3.89  3.84  2.31   \n",
      "2   0.23     Good     E     VS1   56.9   65.0    327  4.05  4.07  2.31   \n",
      "3   0.29  Premium     I     VS2   62.4   58.0    334  4.20  4.23  2.63   \n",
      "4   0.31     Good     J     SI2   63.3   58.0    335  4.34  4.35  2.75   \n",
      "\n",
      "  Quality-color  \n",
      "0       Ideal,E  \n",
      "1     Premium,E  \n",
      "2        Good,E  \n",
      "3     Premium,I  \n",
      "4        Good,J  \n"
     ]
    }
   ],
   "source": [
    "diamonds['Quality-color'] = diamonds.cut + ',' + diamonds.color\n",
    "print(diamonds.head())"
   ]
  },
  {
   "cell_type": "markdown",
   "id": "8ff65e7f",
   "metadata": {},
   "source": [
    "***to find the number of rows and columns and data type of each column***\n"
   ]
  },
  {
   "cell_type": "code",
   "execution_count": 7,
   "id": "be8675a1",
   "metadata": {},
   "outputs": [
    {
     "name": "stdout",
     "output_type": "stream",
     "text": [
      "(53940, 11)\n"
     ]
    }
   ],
   "source": [
    "print(diamonds.shape)"
   ]
  },
  {
   "cell_type": "code",
   "execution_count": 8,
   "id": "032d52b9",
   "metadata": {},
   "outputs": [
    {
     "name": "stdout",
     "output_type": "stream",
     "text": [
      "carat            float64\n",
      "cut               object\n",
      "color             object\n",
      "clarity           object\n",
      "depth            float64\n",
      "table            float64\n",
      "price              int64\n",
      "x                float64\n",
      "y                float64\n",
      "z                float64\n",
      "Quality-color     object\n",
      "dtype: object\n"
     ]
    }
   ],
   "source": [
    "print(diamonds.dtypes)"
   ]
  },
  {
   "cell_type": "markdown",
   "id": "e5f6d30a",
   "metadata": {},
   "source": [
    "***to summarize only 'object' columns of the diamonds Dataframe.***"
   ]
  },
  {
   "cell_type": "code",
   "execution_count": 9,
   "id": "7f3942dd",
   "metadata": {},
   "outputs": [
    {
     "name": "stdout",
     "output_type": "stream",
     "text": [
      "          cut  color clarity Quality-color\n",
      "count   53940  53940   53940         53940\n",
      "unique      5      7       8            35\n",
      "top     Ideal      G     SI1       Ideal,G\n",
      "freq    21551  11292   13065          4884\n"
     ]
    }
   ],
   "source": [
    "print(diamonds.describe(include=['object']))"
   ]
  },
  {
   "cell_type": "markdown",
   "id": "a90b6c7a",
   "metadata": {},
   "source": [
    "***to rename two of the columns***"
   ]
  },
  {
   "cell_type": "code",
   "execution_count": 10,
   "id": "691eafb6",
   "metadata": {},
   "outputs": [
    {
     "name": "stdout",
     "output_type": "stream",
     "text": [
      "   carat diamond_cut diamond_color clarity  depth  table  price     x     y  \\\n",
      "0   0.23       Ideal             E     SI2   61.5   55.0    326  3.95  3.98   \n",
      "1   0.21     Premium             E     SI1   59.8   61.0    326  3.89  3.84   \n",
      "2   0.23        Good             E     VS1   56.9   65.0    327  4.05  4.07   \n",
      "3   0.29     Premium             I     VS2   62.4   58.0    334  4.20  4.23   \n",
      "4   0.31        Good             J     SI2   63.3   58.0    335  4.34  4.35   \n",
      "\n",
      "      z Quality-color  \n",
      "0  2.43       Ideal,E  \n",
      "1  2.31     Premium,E  \n",
      "2  2.31        Good,E  \n",
      "3  2.63     Premium,I  \n",
      "4  2.75        Good,J  \n"
     ]
    }
   ],
   "source": [
    "diamonds.rename(columns={'color':'diamond_color', 'cut':'diamond_cut'}, inplace=True)\n",
    "print(diamonds.head())"
   ]
  },
  {
   "cell_type": "markdown",
   "id": "b9a6c7ca",
   "metadata": {},
   "source": [
    "***to remove the second column***"
   ]
  },
  {
   "cell_type": "code",
   "execution_count": 11,
   "id": "bf9acf5a",
   "metadata": {
    "scrolled": true
   },
   "outputs": [
    {
     "data": {
      "text/html": [
       "<div>\n",
       "<style scoped>\n",
       "    .dataframe tbody tr th:only-of-type {\n",
       "        vertical-align: middle;\n",
       "    }\n",
       "\n",
       "    .dataframe tbody tr th {\n",
       "        vertical-align: top;\n",
       "    }\n",
       "\n",
       "    .dataframe thead th {\n",
       "        text-align: right;\n",
       "    }\n",
       "</style>\n",
       "<table border=\"1\" class=\"dataframe\">\n",
       "  <thead>\n",
       "    <tr style=\"text-align: right;\">\n",
       "      <th></th>\n",
       "      <th>diamond_cut</th>\n",
       "      <th>diamond_color</th>\n",
       "      <th>clarity</th>\n",
       "      <th>depth</th>\n",
       "      <th>table</th>\n",
       "      <th>price</th>\n",
       "      <th>x</th>\n",
       "      <th>y</th>\n",
       "      <th>z</th>\n",
       "      <th>Quality-color</th>\n",
       "    </tr>\n",
       "  </thead>\n",
       "  <tbody>\n",
       "    <tr>\n",
       "      <th>0</th>\n",
       "      <td>Ideal</td>\n",
       "      <td>E</td>\n",
       "      <td>SI2</td>\n",
       "      <td>61.5</td>\n",
       "      <td>55.0</td>\n",
       "      <td>326</td>\n",
       "      <td>3.95</td>\n",
       "      <td>3.98</td>\n",
       "      <td>2.43</td>\n",
       "      <td>Ideal,E</td>\n",
       "    </tr>\n",
       "    <tr>\n",
       "      <th>1</th>\n",
       "      <td>Premium</td>\n",
       "      <td>E</td>\n",
       "      <td>SI1</td>\n",
       "      <td>59.8</td>\n",
       "      <td>61.0</td>\n",
       "      <td>326</td>\n",
       "      <td>3.89</td>\n",
       "      <td>3.84</td>\n",
       "      <td>2.31</td>\n",
       "      <td>Premium,E</td>\n",
       "    </tr>\n",
       "    <tr>\n",
       "      <th>2</th>\n",
       "      <td>Good</td>\n",
       "      <td>E</td>\n",
       "      <td>VS1</td>\n",
       "      <td>56.9</td>\n",
       "      <td>65.0</td>\n",
       "      <td>327</td>\n",
       "      <td>4.05</td>\n",
       "      <td>4.07</td>\n",
       "      <td>2.31</td>\n",
       "      <td>Good,E</td>\n",
       "    </tr>\n",
       "    <tr>\n",
       "      <th>3</th>\n",
       "      <td>Premium</td>\n",
       "      <td>I</td>\n",
       "      <td>VS2</td>\n",
       "      <td>62.4</td>\n",
       "      <td>58.0</td>\n",
       "      <td>334</td>\n",
       "      <td>4.20</td>\n",
       "      <td>4.23</td>\n",
       "      <td>2.63</td>\n",
       "      <td>Premium,I</td>\n",
       "    </tr>\n",
       "    <tr>\n",
       "      <th>4</th>\n",
       "      <td>Good</td>\n",
       "      <td>J</td>\n",
       "      <td>SI2</td>\n",
       "      <td>63.3</td>\n",
       "      <td>58.0</td>\n",
       "      <td>335</td>\n",
       "      <td>4.34</td>\n",
       "      <td>4.35</td>\n",
       "      <td>2.75</td>\n",
       "      <td>Good,J</td>\n",
       "    </tr>\n",
       "  </tbody>\n",
       "</table>\n",
       "</div>"
      ],
      "text/plain": [
       "  diamond_cut diamond_color clarity  depth  table  price     x     y     z  \\\n",
       "0       Ideal             E     SI2   61.5   55.0    326  3.95  3.98  2.43   \n",
       "1     Premium             E     SI1   59.8   61.0    326  3.89  3.84  2.31   \n",
       "2        Good             E     VS1   56.9   65.0    327  4.05  4.07  2.31   \n",
       "3     Premium             I     VS2   62.4   58.0    334  4.20  4.23  2.63   \n",
       "4        Good             J     SI2   63.3   58.0    335  4.34  4.35  2.75   \n",
       "\n",
       "  Quality-color  \n",
       "0       Ideal,E  \n",
       "1     Premium,E  \n",
       "2        Good,E  \n",
       "3     Premium,I  \n",
       "4        Good,J  "
      ]
     },
     "execution_count": 11,
     "metadata": {},
     "output_type": "execute_result"
    }
   ],
   "source": [
    "diamonds.drop('carat', axis=1, inplace=True)\n",
    "diamonds.head()"
   ]
  },
  {
   "cell_type": "markdown",
   "id": "12eef7d5",
   "metadata": {},
   "source": [
    "***to remove multiple columns at once***"
   ]
  },
  {
   "cell_type": "code",
   "execution_count": 12,
   "id": "6da673eb",
   "metadata": {},
   "outputs": [
    {
     "name": "stdout",
     "output_type": "stream",
     "text": [
      "  diamond_cut diamond_color clarity  depth  table  price     z Quality-color\n",
      "0       Ideal             E     SI2   61.5   55.0    326  2.43       Ideal,E\n",
      "1     Premium             E     SI1   59.8   61.0    326  2.31     Premium,E\n",
      "2        Good             E     VS1   56.9   65.0    327  2.31        Good,E\n",
      "3     Premium             I     VS2   62.4   58.0    334  2.63     Premium,I\n",
      "4        Good             J     SI2   63.3   58.0    335  2.75        Good,J\n"
     ]
    }
   ],
   "source": [
    "diamonds.drop(['x', 'y'], axis=1, inplace=True)\n",
    "print(diamonds.head())"
   ]
  },
  {
   "cell_type": "markdown",
   "id": "3ab6e28b",
   "metadata": {},
   "source": [
    "***to remove multiple rows at once***"
   ]
  },
  {
   "cell_type": "code",
   "execution_count": 13,
   "id": "26ef42a4",
   "metadata": {},
   "outputs": [
    {
     "name": "stdout",
     "output_type": "stream",
     "text": [
      "   diamond_cut diamond_color clarity  depth  table  price     z Quality-color\n",
      "0        Ideal             E     SI2   61.5   55.0    326  2.43       Ideal,E\n",
      "1      Premium             E     SI1   59.8   61.0    326  2.31     Premium,E\n",
      "3      Premium             I     VS2   62.4   58.0    334  2.63     Premium,I\n",
      "5    Very Good             J    VVS2   62.8   57.0    336  2.48   Very Good,J\n",
      "6    Very Good             I    VVS1   62.3   57.0    336  2.47   Very Good,I\n",
      "7    Very Good             H     SI1   61.9   55.0    337  2.53   Very Good,H\n",
      "9    Very Good             H     VS1   59.4   61.0    338  2.39   Very Good,H\n",
      "10        Good             J     SI1   64.0   55.0    339  2.73        Good,J\n",
      "11       Ideal             J     VS1   62.8   56.0    340  2.46       Ideal,J\n",
      "12     Premium             F     SI1   60.4   61.0    342  2.33     Premium,F\n"
     ]
    }
   ],
   "source": [
    "diamonds.drop([2, 4, 8], axis=0, inplace=True)\n",
    "print(diamonds.head(10))"
   ]
  },
  {
   "cell_type": "markdown",
   "id": "64a5d149",
   "metadata": {},
   "source": [
    "***to sort the 'cut' Series in ascending order***"
   ]
  },
  {
   "cell_type": "code",
   "execution_count": 14,
   "id": "5d73acd1",
   "metadata": {},
   "outputs": [
    {
     "name": "stdout",
     "output_type": "stream",
     "text": [
      "11783         Fair\n",
      "2272          Fair\n",
      "19785         Fair\n",
      "36904         Fair\n",
      "6434          Fair\n",
      "           ...    \n",
      "7402     Very Good\n",
      "43101    Very Good\n",
      "16893    Very Good\n",
      "16898    Very Good\n",
      "21164    Very Good\n",
      "Name: diamond_cut, Length: 53937, dtype: object\n"
     ]
    }
   ],
   "source": [
    "res=diamonds.diamond_cut.sort_values(ascending=True)\n",
    "print(res)"
   ]
  },
  {
   "cell_type": "markdown",
   "id": "5a225610",
   "metadata": {},
   "source": [
    "***to sort the 'price' Series in descending order***"
   ]
  },
  {
   "cell_type": "code",
   "execution_count": 15,
   "id": "5e51efe4",
   "metadata": {},
   "outputs": [
    {
     "name": "stdout",
     "output_type": "stream",
     "text": [
      "27749    18823\n",
      "27748    18818\n",
      "27747    18806\n",
      "27746    18804\n",
      "27745    18803\n",
      "         ...  \n",
      "6          336\n",
      "5          336\n",
      "3          334\n",
      "1          326\n",
      "0          326\n",
      "Name: price, Length: 53937, dtype: int64\n"
     ]
    }
   ],
   "source": [
    "res=diamonds.price.sort_values(ascending=False)\n",
    "print(res)"
   ]
  },
  {
   "cell_type": "markdown",
   "id": "75662f47",
   "metadata": {},
   "source": [
    "***to filter the DataFrame rows to only show carat weight at least 0.3.***"
   ]
  },
  {
   "cell_type": "code",
   "execution_count": 16,
   "id": "890a952a",
   "metadata": {},
   "outputs": [],
   "source": [
    "diamonds = pd.read_csv('https://raw.githubusercontent.com/mwaskom/seaborn-data/master/diamonds.csv')"
   ]
  },
  {
   "cell_type": "code",
   "execution_count": 17,
   "id": "b333beff",
   "metadata": {},
   "outputs": [
    {
     "name": "stdout",
     "output_type": "stream",
     "text": [
      "[False, False, False, False, True, False, False, False, False, False, True, False, False, True, False, True, True, True, True, True]\n"
     ]
    }
   ],
   "source": [
    "bool = []\n",
    "for w in diamonds.carat:\n",
    "    if w>= .3:\n",
    "        bool.append(True)\n",
    "    else:\n",
    "        bool.append(False)\n",
    "print(bool[0:20])"
   ]
  },
  {
   "cell_type": "markdown",
   "id": "d9ab3acc",
   "metadata": {},
   "source": [
    "***to convert a python list to pandas series***"
   ]
  },
  {
   "cell_type": "code",
   "execution_count": 18,
   "id": "3da37491",
   "metadata": {},
   "outputs": [
    {
     "name": "stdout",
     "output_type": "stream",
     "text": [
      "0     1\n",
      "1     3\n",
      "2     4\n",
      "3     6\n",
      "4     8\n",
      "5    67\n",
      "dtype: int64\n"
     ]
    }
   ],
   "source": [
    "l =[1,3 , 4, 6, 8, 67]\n",
    "res = pd.Series(l)\n",
    "print(res)"
   ]
  },
  {
   "cell_type": "markdown",
   "id": "e513c3c7",
   "metadata": {},
   "source": [
    "***to find the details of the diamonds where length>5, width>5 and depth>5.***"
   ]
  },
  {
   "cell_type": "code",
   "execution_count": 19,
   "id": "02d8818d",
   "metadata": {},
   "outputs": [
    {
     "name": "stdout",
     "output_type": "stream",
     "text": [
      "       carat   cut color clarity  depth  table  price     x     y     z\n",
      "11778   1.83  Fair     J      I1   70.0   58.0   5083  7.34  7.28  5.12\n",
      "13002   2.14  Fair     J      I1   69.4   57.0   5405  7.74  7.70  5.36\n",
      "13118   2.15  Fair     J      I1   65.5   57.0   5430  8.01  7.95  5.23\n",
      "13562   1.96  Fair     F      I1   66.6   60.0   5554  7.59  7.56  5.04\n",
      "13757   2.22  Fair     J      I1   66.7   56.0   5607  8.04  8.02  5.36\n"
     ]
    }
   ],
   "source": [
    "res = diamonds[(diamonds.x>5) & (diamonds.y>5) & (diamonds.z>5)]\n",
    "print(res.head())"
   ]
  },
  {
   "cell_type": "markdown",
   "id": "63bee475",
   "metadata": {},
   "source": [
    "***to find the diamonds that are either Premium or Ideal.***"
   ]
  },
  {
   "cell_type": "code",
   "execution_count": 20,
   "id": "509d9bb0",
   "metadata": {
    "scrolled": true
   },
   "outputs": [
    {
     "name": "stdout",
     "output_type": "stream",
     "text": [
      "    carat      cut color clarity  depth  table  price     x     y     z\n",
      "0    0.23    Ideal     E     SI2   61.5   55.0    326  3.95  3.98  2.43\n",
      "1    0.21  Premium     E     SI1   59.8   61.0    326  3.89  3.84  2.31\n",
      "3    0.29  Premium     I     VS2   62.4   58.0    334  4.20  4.23  2.63\n",
      "11   0.23    Ideal     J     VS1   62.8   56.0    340  3.93  3.90  2.46\n",
      "12   0.22  Premium     F     SI1   60.4   61.0    342  3.88  3.84  2.33\n"
     ]
    }
   ],
   "source": [
    "res = diamonds[(diamonds.cut == 'Premium') | (diamonds.cut == 'Ideal')]\n",
    "print(res.head())"
   ]
  },
  {
   "cell_type": "markdown",
   "id": "edd4743a",
   "metadata": {},
   "source": [
    "***to find the diamonds that are either Premium or Ideal.***"
   ]
  },
  {
   "cell_type": "code",
   "execution_count": 21,
   "id": "f3c66676",
   "metadata": {},
   "outputs": [
    {
     "name": "stdout",
     "output_type": "stream",
     "text": [
      "    carat      cut color clarity  depth  table  price     x     y     z\n",
      "0    0.23    Ideal     E     SI2   61.5   55.0    326  3.95  3.98  2.43\n",
      "1    0.21  Premium     E     SI1   59.8   61.0    326  3.89  3.84  2.31\n",
      "3    0.29  Premium     I     VS2   62.4   58.0    334  4.20  4.23  2.63\n",
      "11   0.23    Ideal     J     VS1   62.8   56.0    340  3.93  3.90  2.46\n",
      "12   0.22  Premium     F     SI1   60.4   61.0    342  3.88  3.84  2.33\n"
     ]
    }
   ],
   "source": [
    "res = diamonds[(diamonds.cut == 'Premium') | (diamonds.cut == 'Ideal')]\n",
    "print(res.head())"
   ]
  },
  {
   "cell_type": "markdown",
   "id": "c397741d",
   "metadata": {},
   "source": [
    "***to find the diamonds that are with a Fair or Good or Premium***"
   ]
  },
  {
   "cell_type": "code",
   "execution_count": 22,
   "id": "367e787f",
   "metadata": {},
   "outputs": [
    {
     "name": "stdout",
     "output_type": "stream",
     "text": [
      "   carat      cut color clarity  depth  table  price     x     y     z\n",
      "1   0.21  Premium     E     SI1   59.8   61.0    326  3.89  3.84  2.31\n",
      "2   0.23     Good     E     VS1   56.9   65.0    327  4.05  4.07  2.31\n",
      "3   0.29  Premium     I     VS2   62.4   58.0    334  4.20  4.23  2.63\n",
      "4   0.31     Good     J     SI2   63.3   58.0    335  4.34  4.35  2.75\n",
      "8   0.22     Fair     E     VS2   65.1   61.0    337  3.87  3.78  2.49\n"
     ]
    }
   ],
   "source": [
    "res = diamonds[diamonds.cut.isin(['Fair', 'Good', 'Premium'])]\n",
    "print(res.head())"
   ]
  },
  {
   "cell_type": "markdown",
   "id": "a20176de",
   "metadata": {},
   "source": [
    "***to display all column labels of diamonds DataFrame.***"
   ]
  },
  {
   "cell_type": "code",
   "execution_count": 23,
   "id": "c36f7558",
   "metadata": {},
   "outputs": [
    {
     "name": "stdout",
     "output_type": "stream",
     "text": [
      "Index(['carat', 'cut', 'color', 'clarity', 'depth', 'table', 'price', 'x', 'y',\n",
      "       'z'],\n",
      "      dtype='object')\n"
     ]
    }
   ],
   "source": [
    "print(diamonds.columns)"
   ]
  },
  {
   "cell_type": "markdown",
   "id": "ba91db0f",
   "metadata": {},
   "source": [
    "***calculate the mean of price for each cut of diamonds***"
   ]
  },
  {
   "cell_type": "code",
   "execution_count": 24,
   "id": "f7d4a63d",
   "metadata": {},
   "outputs": [
    {
     "name": "stdout",
     "output_type": "stream",
     "text": [
      "cut\n",
      "Fair         4358.757764\n",
      "Good         3928.864452\n",
      "Ideal        3457.541970\n",
      "Premium      4584.257704\n",
      "Very Good    3981.759891\n",
      "Name: price, dtype: float64\n"
     ]
    }
   ],
   "source": [
    "print(diamonds.groupby('cut').price.mean())"
   ]
  },
  {
   "cell_type": "markdown",
   "id": "05393bb4",
   "metadata": {},
   "source": [
    "***calculate count, minimum, maximum price for each cut of diamonds***"
   ]
  },
  {
   "cell_type": "code",
   "execution_count": 25,
   "id": "92428cbf",
   "metadata": {},
   "outputs": [
    {
     "name": "stdout",
     "output_type": "stream",
     "text": [
      "           count  min    max\n",
      "cut                         \n",
      "Fair        1610  337  18574\n",
      "Good        4906  327  18788\n",
      "Ideal      21551  326  18806\n",
      "Premium    13791  326  18823\n",
      "Very Good  12082  336  18818\n"
     ]
    }
   ],
   "source": [
    "print(diamonds.groupby('cut').price.agg(['count', 'min', 'max']))"
   ]
  },
  {
   "cell_type": "markdown",
   "id": "79b6e931",
   "metadata": {},
   "source": [
    "***create a side-by-side bar plot of the diamonds***"
   ]
  },
  {
   "cell_type": "code",
   "execution_count": 30,
   "id": "c448575c",
   "metadata": {},
   "outputs": [],
   "source": [
    "import numpy as np\n",
    "import matplotlib.pyplot as plt\n",
    "import seaborn as sns"
   ]
  },
  {
   "cell_type": "code",
   "execution_count": 32,
   "id": "c102ac42",
   "metadata": {},
   "outputs": [
    {
     "data": {
      "text/plain": [
       "<Axes: xlabel='cut', ylabel='count'>"
      ]
     },
     "execution_count": 32,
     "metadata": {},
     "output_type": "execute_result"
    },
    {
     "data": {
      "image/png": "[encoded data removed]",
      "text/plain": [
       "<Figure size 640x480 with 1 Axes>"
      ]
     },
     "metadata": {},
     "output_type": "display_data"
    }
   ],
   "source": [
    "sns.countplot(x='cut', data = diamonds)"
   ]
  },
  {
   "cell_type": "code",
   "execution_count": 36,
   "id": "988f31af",
   "metadata": {},
   "outputs": [
    {
     "data": {
      "text/plain": [
       "<Axes: ylabel='price'>"
      ]
     },
     "execution_count": 36,
     "metadata": {},
     "output_type": "execute_result"
    },
    {
     "data": {
      "image/png": "[encoded data removed]",
      "text/plain": [
       "<Figure size 640x480 with 1 Axes>"
      ]
     },
     "metadata": {},
     "output_type": "display_data"
    }
   ],
   "source": [
    "sns.boxplot(y=diamonds['price'])"
   ]
  },
  {
   "cell_type": "code",
   "execution_count": 38,
   "id": "9db12f6a",
   "metadata": {
    "scrolled": true
   },
   "outputs": [
    {
     "data": {
      "text/plain": [
       "<Axes: xlabel='cut', ylabel='price'>"
      ]
     },
     "execution_count": 38,
     "metadata": {},
     "output_type": "execute_result"
    },
    {
     "data": {
      "image/png": "[encoded data removed]",
      "text/plain": [
       "<Figure size 640x480 with 1 Axes>"
      ]
     },
     "metadata": {},
     "output_type": "display_data"
    }
   ],
   "source": [
    "sns.boxplot(x = 'cut', y= diamonds['price'], data=diamonds)"
   ]
  },
  {
   "cell_type": "markdown",
   "id": "9db1a880",
   "metadata": {},
   "source": [
    "***Scatter plot of Price vs cut***"
   ]
  },
  {
   "cell_type": "code",
   "execution_count": 46,
   "id": "287c2243",
   "metadata": {},
   "outputs": [
    {
     "data": {
      "text/plain": [
       "<Axes: xlabel='carat', ylabel='price'>"
      ]
     },
     "execution_count": 46,
     "metadata": {},
     "output_type": "execute_result"
    },
    {
     "data": {
      "image/png": "[encoded data removed]",
      "text/plain": [
       "<Figure size 640x480 with 1 Axes>"
      ]
     },
     "metadata": {},
     "output_type": "display_data"
    }
   ],
   "source": [
    "sns.set(style='darkgrid')\n",
    "sns.regplot(x=diamonds['carat'], y=diamonds['price'])"
   ]
  },
  {
   "cell_type": "markdown",
   "id": "1fd21324",
   "metadata": {},
   "source": [
    "***Histogram***"
   ]
  },
  {
   "cell_type": "code",
   "execution_count": 50,
   "id": "62a3d07b",
   "metadata": {},
   "outputs": [
    {
     "data": {
      "text/plain": [
       "<Axes: xlabel='price', ylabel='Count'>"
      ]
     },
     "execution_count": 50,
     "metadata": {},
     "output_type": "execute_result"
    },
    {
     "data": {
      "image/png": "[encoded data removed]",
      "text/plain": [
       "<Figure size 640x480 with 1 Axes>"
      ]
     },
     "metadata": {},
     "output_type": "display_data"
    }
   ],
   "source": [
    "sns.histplot(diamonds['price'])"
   ]
  },
  {
   "cell_type": "code",
   "execution_count": 51,
   "id": "1fda3667",
   "metadata": {},
   "outputs": [
    {
     "data": {
      "text/plain": [
       "<Axes: xlabel='price', ylabel='Count'>"
      ]
     },
     "execution_count": 51,
     "metadata": {},
     "output_type": "execute_result"
    },
    {
     "data": {
      "image/png": "[encoded data removed]",
      "text/plain": [
       "<Figure size 640x480 with 1 Axes>"
      ]
     },
     "metadata": {},
     "output_type": "display_data"
    }
   ],
   "source": [
    "sns.histplot(diamonds['price'], kde=False)"
   ]
  },
  {
   "cell_type": "code",
   "execution_count": 52,
   "id": "9e0ea354",
   "metadata": {},
   "outputs": [
    {
     "data": {
      "text/plain": [
       "<Axes: xlabel='price', ylabel='Count'>"
      ]
     },
     "execution_count": 52,
     "metadata": {},
     "output_type": "execute_result"
    },
    {
     "data": {
      "image/png": "[encoded data removed]",
      "text/plain": [
       "<Figure size 640x480 with 1 Axes>"
      ]
     },
     "metadata": {},
     "output_type": "display_data"
    }
   ],
   "source": [
    "sns.histplot(diamonds['price'], kde=False, bins=5)"
   ]
  },
  {
   "cell_type": "code",
   "execution_count": null,
   "id": "780f557d",
   "metadata": {},
   "outputs": [],
   "source": []
  }
 ],
 "metadata": {
  "kernelspec": {
   "display_name": "Python 3 (ipykernel)",
   "language": "python",
   "name": "python3"
  },
  "language_info": {
   "codemirror_mode": {
    "name": "ipython",
    "version": 3
   },
   "file_extension": ".py",
   "mimetype": "text/x-python",
   "name": "python",
   "nbconvert_exporter": "python",
   "pygments_lexer": "ipython3",
   "version": "3.11.5"
  }
 },
 "nbformat": 4,
 "nbformat_minor": 5
}
